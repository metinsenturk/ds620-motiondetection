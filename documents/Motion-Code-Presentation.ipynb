{
 "cells": [
  {
   "cell_type": "markdown",
   "metadata": {},
   "source": [
    "# Motion Detection "
   ]
  },
  {
   "cell_type": "markdown",
   "metadata": {},
   "source": [
    "**Authors:** <br />\n",
    "Metin Senturk <br />\n",
    "Janam Dalal <br />\n",
    "Pooja Umathe <br />\n",
    "\n",
    "**Date:** <br /> \n",
    "11.13.2018\n",
    "    \n",
    "**Project:** <br />\n",
    "Applications and Methods of Motion Detection"
   ]
  },
  {
   "cell_type": "code",
   "execution_count": null,
   "metadata": {},
   "outputs": [],
   "source": [
    "import cv2\n",
    "import pandas as pd\n",
    "import numpy as np"
   ]
  },
  {
   "cell_type": "markdown",
   "metadata": {},
   "source": [
    "## Background Subtraction"
   ]
  },
  {
   "cell_type": "markdown",
   "metadata": {},
   "source": [
    "the main motion detection logic by using the differences btw two frames. function returns difference map."
   ]
  },
  {
   "cell_type": "code",
   "execution_count": null,
   "metadata": {},
   "outputs": [],
   "source": [
    "def dist_map(frame1, frame2):\n",
    "    \"\"\"outputs pythagorean distance between two frames\"\"\"\n",
    "    frame1_32 = np.float32(frame1)\n",
    "    frame2_32 = np.float32(frame2)\n",
    "    diff32 = frame1_32 - frame2_32\n",
    "    norm32 = np.sqrt(diff32[:, :, 0]**2 + diff32[:, :, 1] **\n",
    "                     2 + diff32[:, :, 2]**2)/np.sqrt(255**2 + 255**2 + 255**2)\n",
    "    dist = np.uint8(norm32*255)\n",
    "    return dist"
   ]
  },
  {
   "cell_type": "markdown",
   "metadata": {},
   "source": [
    "loading face and eye template data into system."
   ]
  },
  {
   "cell_type": "markdown",
   "metadata": {},
   "source": [
    "function to detect face and eyes in any given frame."
   ]
  },
  {
   "cell_type": "markdown",
   "metadata": {},
   "source": [
    "detecting face and eye. The data that is used."
   ]
  },
  {
   "cell_type": "code",
   "execution_count": null,
   "metadata": {},
   "outputs": [],
   "source": [
    "face_cascade, eyes_cascade = init_face_detection()"
   ]
  },
  {
   "cell_type": "markdown",
   "metadata": {},
   "source": [
    "main loop to detect motion. all background steps are covered."
   ]
  },
  {
   "cell_type": "code",
   "execution_count": null,
   "metadata": {},
   "outputs": [],
   "source": [
    "video = cv2.VideoCapture(0)\n",
    "video.set(3, 1920)\n",
    "video.set(4, 1080)\n",
    "\n",
    "fourcc = cv2.VideoWriter_fourcc(*'MJPG')\n",
    "out = cv2.VideoWriter('output_m.avi',fourcc, 4, (1920, 1080))\n",
    "\n",
    "while True:\n",
    "    check, frame = video.read()\n",
    "    check2, frame2 = video.read()\n",
    "\n",
    "    motion = 0\n",
    "\n",
    "    gray = cv2.cvtColor(frame, cv2.COLOR_BGR2GRAY)\n",
    "    gray = cv2.GaussianBlur(gray, (21, 21), 0)\n",
    "    edge = cv2.Canny(gray, 35, 125)\n",
    "\n",
    "    gray2 = cv2.cvtColor(frame2, cv2.COLOR_BGR2GRAY)\n",
    "    gray2 = cv2.GaussianBlur(gray, (21, 21), 0)\n",
    "\n",
    "    #diff_btw_background = cv2.absdiff(static_background, gray)\n",
    "    diff_btw_background = dist_map(frame, frame2)\n",
    "    # diff_btw_background = diff_img(static_background, gray, gray2)\n",
    "\n",
    "    threshold_frame = cv2.threshold(\n",
    "        diff_btw_background, 30, 255, cv2.THRESH_BINARY)[1]\n",
    "    threshold_frame = cv2.dilate(threshold_frame, None, iterations=2)\n",
    "\n",
    "    (_, cnts, _) = cv2.findContours(\n",
    "        threshold_frame.copy(),\n",
    "        cv2.RETR_EXTERNAL,\n",
    "        cv2.CHAIN_APPROX_SIMPLE\n",
    "    )\n",
    "\n",
    "    for countour in cnts:\n",
    "        if cv2.contourArea(countour) < 10000:\n",
    "            continue\n",
    "        else:\n",
    "            (x, y, w, h) = cv2.boundingRect(countour)\n",
    "            cv2.rectangle(frame, (x, y), (x + w, y + h), (0, 255, 0), 3)\n",
    "\n",
    "    frame = face_detect(frame)\n",
    "\n",
    "\n",
    "    out.write(frame)\n",
    "\n",
    "    cv2.imshow(\"frame\", frame)\n",
    "    cv2.imshow(\"diff_btw_background:\", diff_btw_background)\n",
    "    cv2.imshow(\"threshold_frame:\", threshold_frame)\n",
    "\n",
    "    if cv2.waitKey(1) == ord('q'):\n",
    "        break"
   ]
  },
  {
   "cell_type": "markdown",
   "metadata": {},
   "source": [
    "releasing all resources."
   ]
  },
  {
   "cell_type": "code",
   "execution_count": null,
   "metadata": {},
   "outputs": [],
   "source": [
    "video.release()\n",
    "out.release()\n",
    "cv2.destroyAllWindows()"
   ]
  },
  {
   "cell_type": "markdown",
   "metadata": {},
   "source": [
    "## Meanshift"
   ]
  },
  {
   "cell_type": "markdown",
   "metadata": {},
   "source": [
    "constructing meanshift detection "
   ]
  },
  {
   "cell_type": "code",
   "execution_count": null,
   "metadata": {},
   "outputs": [],
   "source": [
    "# setup initial location of window\n",
    "r, h, c, w = 250, 90, 400, 125  # simply hardcoded the values\n",
    "track_window = (c, r, w, h)\n",
    "# set up the ROI for tracking\n",
    "roi = frame[r:r+h, c:c+w]\n",
    "hsv_roi = cv.cvtColor(roi, cv.COLOR_BGR2HSV)\n",
    "mask = cv.inRange(hsv_roi, np.array((0., 60., 32.)),\n",
    "                np.array((180., 255., 255.)))\n",
    "roi_hist = cv.calcHist([hsv_roi], [0], mask, [180], [0, 180])\n",
    "cv.normalize(roi_hist, roi_hist, 0, 255, cv.NORM_MINMAX)\n",
    "# Setup the termination criteria, either 10 iteration or move by atleast 1 pt\n",
    "term_crit = (cv.TERM_CRITERIA_EPS | cv.TERM_CRITERIA_COUNT, 10, 1)"
   ]
  },
  {
   "cell_type": "markdown",
   "metadata": {},
   "source": [
    "process of meanshift object detection"
   ]
  },
  {
   "cell_type": "code",
   "execution_count": null,
   "metadata": {},
   "outputs": [],
   "source": [
    "while(1):\n",
    "        ret, frame = cap.read()\n",
    "        if ret == True:\n",
    "            hsv = cv.cvtColor(frame, cv.COLOR_BGR2HSV)\n",
    "            dst = cv.calcBackProject([hsv], [0], roi_hist, [0, 180], 1)\n",
    "            # apply meanshift to get the new location\n",
    "            ret, track_window = cv.CamShift(dst, track_window, term_crit)\n",
    "            # Draw it on image\n",
    "            x, y, w, h = track_window\n",
    "            img2 = cv.rectangle(frame, (x, y), (x+w, y+h), 255, 2)\n",
    "\n",
    "            # write the flipped frame\n",
    "            out.write(img2)\n",
    "\n",
    "            cv.imshow('img2', img2)\n",
    "\n",
    "            if cv.waitKey(60) & 0xff == ord('q'):\n",
    "                break\n",
    "        else:\n",
    "            break"
   ]
  },
  {
   "cell_type": "markdown",
   "metadata": {},
   "source": [
    "## Face Motion Tracking and Detection"
   ]
  },
  {
   "cell_type": "code",
   "execution_count": null,
   "metadata": {},
   "outputs": [],
   "source": [
    "def init_face_detection():\n",
    "    face_cascade = cv2.CascadeClassifier()\n",
    "    eyes_cascade = cv2.CascadeClassifier()\n",
    "\n",
    "    if not face_cascade.load('../data/haarcascade_frontalface_default.xml'):\n",
    "        print('--(!)Error loading face cascade')\n",
    "        exit(0)\n",
    "    if not eyes_cascade.load('../data/haarcascade_eye.xml'):\n",
    "        print('--(!)Error loading eyes cascade')\n",
    "        exit(0)\n",
    "\n",
    "    return face_cascade, eyes_cascade\n"
   ]
  },
  {
   "cell_type": "code",
   "execution_count": null,
   "metadata": {},
   "outputs": [],
   "source": [
    "def face_detect(frame):\n",
    "    frame_gray = cv2.cvtColor(frame, cv2.COLOR_BGR2GRAY)\n",
    "    frame_gray = cv2.equalizeHist(frame_gray)\n",
    "    # -- Detect faces\n",
    "    faces = face_cascade.detectMultiScale(\n",
    "        frame_gray,\n",
    "        scaleFactor=1.1,\n",
    "        minNeighbors=5,\n",
    "        minSize=(30, 30)\n",
    "    )\n",
    "    for (x, y, w, h) in faces:\n",
    "        center = (x + w//2, y + h//2)\n",
    "        frame = cv2.ellipse(frame, center, (w//2, h//2),\n",
    "                           0, 0, 360, (255, 0, 255), 4)\n",
    "        faceROI = frame_gray[y:y+h, x:x+w]\n",
    "        \n",
    "        # -- In each face, detect eyes\n",
    "        eyes = eyes_cascade.detectMultiScale(faceROI)\n",
    "        for (x2, y2, w2, h2) in eyes:\n",
    "            eye_center = (x + x2 + w2//2, y + y2 + h2//2)\n",
    "            radius = int(round((w2 + h2)*0.25))\n",
    "            frame = cv2.circle(frame, eye_center, radius, (255, 0, 0), 4)\n",
    "    \n",
    "    return frame"
   ]
  },
  {
   "cell_type": "markdown",
   "metadata": {},
   "source": [
    "## Hand Motion Detection and Tracking"
   ]
  },
  {
   "cell_type": "markdown",
   "metadata": {},
   "source": [
    "function to detect the hand motion and fingers"
   ]
  },
  {
   "cell_type": "code",
   "execution_count": null,
   "metadata": {},
   "outputs": [],
   "source": [
    "def calculateFingers(res, drawing):\n",
    "    #  convexity defect\n",
    "    hull = cv2.convexHull(res, returnPoints=False)\n",
    "    if len(hull) > 3:\n",
    "        defects = cv2.convexityDefects(res, hull)\n",
    "        if defects is not None:\n",
    "            cnt = 0\n",
    "            for i in range(defects.shape[0]):  # calculate the angle\n",
    "                s, e, f, d = defects[i][0]\n",
    "                start = tuple(res[s][0])\n",
    "                end = tuple(res[e][0])\n",
    "                far = tuple(res[f][0])\n",
    "                a = math.sqrt((end[0] - start[0]) ** 2 + (end[1] - start[1]) ** 2)\n",
    "                b = math.sqrt((far[0] - start[0]) ** 2 + (far[1] - start[1]) ** 2)\n",
    "                c = math.sqrt((end[0] - far[0]) ** 2 + (end[1] - far[1]) ** 2)\n",
    "                angle = math.acos((b ** 2 + c ** 2 - a ** 2) / (2 * b * c))  # cosine theorem\n",
    "                if angle <= math.pi / 2:  # angle less than 90 degree, treat as fingers\n",
    "                    cnt += 1\n",
    "                    cv2.circle(drawing, far, 8, [211, 84, 0], -1)\n",
    "            if cnt > 0:\n",
    "                return True, cnt+1\n",
    "            else:\n",
    "                return True, 0\n",
    "    return False, 0"
   ]
  },
  {
   "cell_type": "markdown",
   "metadata": {},
   "source": [
    "the process of hand gesture tracking"
   ]
  },
  {
   "cell_type": "code",
   "execution_count": null,
   "metadata": {},
   "outputs": [],
   "source": [
    "while camera.isOpened():\n",
    "    #Main Camera\n",
    "    ret, frame = camera.read()\n",
    "    frame = cv2.bilateralFilter(frame, 5, 50, 100)  # Smoothing\n",
    "    frame = cv2.flip(frame, 1)  #Horizontal Flip\n",
    "    cv2.imshow('original', frame)\n",
    "\n",
    "\n",
    "    #Background Removal\n",
    "    bgModel = cv2.createBackgroundSubtractorMOG2(0, 50)\n",
    "    fgmask = bgModel.apply(frame)\n",
    "\n",
    "    kernel = np.ones((3, 3), np.uint8)\n",
    "    fgmask = cv2.erode(fgmask, kernel, iterations=1)\n",
    "    img = cv2.bitwise_and(frame, frame, mask=fgmask)\n",
    "\n",
    "    # Skin detect and thresholding\n",
    "    hsv = cv2.cvtColor(img, cv2.COLOR_BGR2HSV)\n",
    "    lower = np.array([0, 48, 80], dtype=\"uint8\")\n",
    "    upper = np.array([20, 255, 255], dtype=\"uint8\")\n",
    "    skinMask = cv2.inRange(hsv, lower, upper)\n",
    "    cv2.imshow('Threshold Hands', skinMask)\n",
    "\n",
    "    # Getting the contours and convex hull\n",
    "    skinMask1 = copy.deepcopy(skinMask)\n",
    "    _,contours, hierarchy = cv2.findContours(skinMask1, cv2.RETR_TREE, cv2.CHAIN_APPROX_SIMPLE)\n",
    "    length = len(contours)\n",
    "    maxArea = -1\n",
    "    if length > 0:\n",
    "        for i in range(length):\n",
    "            temp = contours[i]\n",
    "            area = cv2.contourArea(temp)\n",
    "            if area > maxArea:\n",
    "                maxArea = area\n",
    "                ci = i\n",
    "\n",
    "        res = contours[ci]\n",
    "        hull = cv2.convexHull(res)\n",
    "        drawing = np.zeros(img.shape, np.uint8)\n",
    "        cv2.drawContours(drawing, [res], 0, (0, 255, 0), 2)\n",
    "        cv2.drawContours(drawing, [hull], 0, (0, 0, 255), 3)\n",
    "\n",
    "        isFinishCal, cnt = calculateFingers(res, drawing)\n",
    "        print(\"Fingers\"), cnt\n",
    "        cv2.imshow('output', drawing)\n",
    "\n",
    "    outf.write(frame)\n",
    "    out.write(drawing)\n",
    "\n",
    "    if cv2.waitKey(1) == ord('q'):\n",
    "        break"
   ]
  }
 ],
 "metadata": {
  "kernelspec": {
   "display_name": "Python 3",
   "language": "python",
   "name": "python3"
  },
  "language_info": {
   "codemirror_mode": {
    "name": "ipython",
    "version": 3
   },
   "file_extension": ".py",
   "mimetype": "text/x-python",
   "name": "python",
   "nbconvert_exporter": "python",
   "pygments_lexer": "ipython3",
   "version": "3.6.5"
  }
 },
 "nbformat": 4,
 "nbformat_minor": 2
}
