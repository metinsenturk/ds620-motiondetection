{
 "cells": [
  {
   "cell_type": "code",
   "execution_count": 4,
   "metadata": {},
   "outputs": [],
   "source": [
    "import cv2\n",
    "import pandas as pd\n",
    "import numpy as np"
   ]
  },
  {
   "cell_type": "code",
   "execution_count": 5,
   "metadata": {},
   "outputs": [],
   "source": [
    "def dist_map(frame1, frame2):\n",
    "    \"\"\"outputs pythagorean distance between two frames\"\"\"\n",
    "    frame1_32 = np.float32(frame1)\n",
    "    frame2_32 = np.float32(frame2)\n",
    "    diff32 = frame1_32 - frame2_32\n",
    "    norm32 = np.sqrt(diff32[:, :, 0]**2 + diff32[:, :, 1] **\n",
    "                     2 + diff32[:, :, 2]**2)/np.sqrt(255**2 + 255**2 + 255**2)\n",
    "    dist = np.uint8(norm32*255)\n",
    "    return dist"
   ]
  },
  {
   "cell_type": "code",
   "execution_count": null,
   "metadata": {},
   "outputs": [],
   "source": [
    "def init_face_detection():\n",
    "    face_cascade = cv2.CascadeClassifier()\n",
    "    eyes_cascade = cv2.CascadeClassifier()\n",
    "\n",
    "    if not face_cascade.load('../data/haarcascade_frontalface_default.xml'):\n",
    "        print('--(!)Error loading face cascade')\n",
    "        exit(0)\n",
    "    if not eyes_cascade.load('../data/haarcascade_eye.xml'):\n",
    "        print('--(!)Error loading eyes cascade')\n",
    "        exit(0)\n",
    "\n",
    "    return face_cascade, eyes_cascade\n"
   ]
  },
  {
   "cell_type": "code",
   "execution_count": null,
   "metadata": {},
   "outputs": [],
   "source": [
    "def face_detect(frame):\n",
    "    frame_gray = cv2.cvtColor(frame, cv2.COLOR_BGR2GRAY)\n",
    "    frame_gray = cv2.equalizeHist(frame_gray)\n",
    "    # -- Detect faces\n",
    "    faces = face_cascade.detectMultiScale(\n",
    "        frame_gray,\n",
    "        scaleFactor=1.1,\n",
    "        minNeighbors=5,\n",
    "        minSize=(30, 30)\n",
    "    )\n",
    "    for (x, y, w, h) in faces:\n",
    "        center = (x + w//2, y + h//2)\n",
    "        frame = cv2.ellipse(frame, center, (w//2, h//2),\n",
    "                           0, 0, 360, (255, 0, 255), 4)\n",
    "        faceROI = frame_gray[y:y+h, x:x+w]\n",
    "        \n",
    "        # -- In each face, detect eyes\n",
    "        eyes = eyes_cascade.detectMultiScale(faceROI)\n",
    "        for (x2, y2, w2, h2) in eyes:\n",
    "            eye_center = (x + x2 + w2//2, y + y2 + h2//2)\n",
    "            radius = int(round((w2 + h2)*0.25))\n",
    "            frame = cv2.circle(frame, eye_center, radius, (255, 0, 0), 4)\n",
    "    \n",
    "    return frame"
   ]
  },
  {
   "cell_type": "code",
   "execution_count": null,
   "metadata": {},
   "outputs": [],
   "source": [
    "face_cascade, eyes_cascade = init_face_detection()"
   ]
  },
  {
   "cell_type": "code",
   "execution_count": null,
   "metadata": {},
   "outputs": [],
   "source": [
    "video = cv2.VideoCapture(0)\n",
    "video.set(3, 1920)\n",
    "video.set(4, 1080)\n",
    "\n",
    "fourcc = cv2.VideoWriter_fourcc(*'MJPG')\n",
    "out = cv2.VideoWriter('output_m.avi',fourcc, 4, (1920, 1080))\n",
    "\n",
    "while True:\n",
    "    check, frame = video.read()\n",
    "    check2, frame2 = video.read()\n",
    "\n",
    "    motion = 0\n",
    "\n",
    "    gray = cv2.cvtColor(frame, cv2.COLOR_BGR2GRAY)\n",
    "    gray = cv2.GaussianBlur(gray, (21, 21), 0)\n",
    "    edge = cv2.Canny(gray, 35, 125)\n",
    "\n",
    "    gray2 = cv2.cvtColor(frame2, cv2.COLOR_BGR2GRAY)\n",
    "    gray2 = cv2.GaussianBlur(gray, (21, 21), 0)\n",
    "\n",
    "    #diff_btw_background = cv2.absdiff(static_background, gray)\n",
    "    diff_btw_background = dist_map(frame, frame2)\n",
    "    # diff_btw_background = diff_img(static_background, gray, gray2)\n",
    "\n",
    "    threshold_frame = cv2.threshold(\n",
    "        diff_btw_background, 30, 255, cv2.THRESH_BINARY)[1]\n",
    "    threshold_frame = cv2.dilate(threshold_frame, None, iterations=2)\n",
    "\n",
    "    (_, cnts, _) = cv2.findContours(\n",
    "        threshold_frame.copy(),\n",
    "        cv2.RETR_EXTERNAL,\n",
    "        cv2.CHAIN_APPROX_SIMPLE\n",
    "    )\n",
    "\n",
    "    for countour in cnts:\n",
    "        if cv2.contourArea(countour) < 10000:\n",
    "            continue\n",
    "        else:\n",
    "            (x, y, w, h) = cv2.boundingRect(countour)\n",
    "            cv2.rectangle(frame, (x, y), (x + w, y + h), (0, 255, 0), 3)\n",
    "\n",
    "    frame = face_detect(frame)\n",
    "\n",
    "\n",
    "    out.write(frame)\n",
    "\n",
    "    cv2.imshow(\"frame\", frame)\n",
    "    cv2.imshow(\"diff_btw_background:\", diff_btw_background)\n",
    "    cv2.imshow(\"threshold_frame:\", threshold_frame)\n",
    "\n",
    "    if cv2.waitKey(1) == ord('q'):\n",
    "        break"
   ]
  },
  {
   "cell_type": "code",
   "execution_count": null,
   "metadata": {},
   "outputs": [],
   "source": [
    "video.release()\n",
    "out.release()\n",
    "cv2.destroyAllWindows()"
   ]
  }
 ],
 "metadata": {
  "kernelspec": {
   "display_name": "Python 3",
   "language": "python",
   "name": "python3"
  },
  "language_info": {
   "codemirror_mode": {
    "name": "ipython",
    "version": 3
   },
   "file_extension": ".py",
   "mimetype": "text/x-python",
   "name": "python",
   "nbconvert_exporter": "python",
   "pygments_lexer": "ipython3",
   "version": "3.6.5"
  }
 },
 "nbformat": 4,
 "nbformat_minor": 2
}
